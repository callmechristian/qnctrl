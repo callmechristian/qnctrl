{
 "cells": [
  {
   "cell_type": "code",
   "execution_count": 1,
   "metadata": {},
   "outputs": [
    {
     "name": "stderr",
     "output_type": "stream",
     "text": [
      "2024-07-15 10:11:35.879007: I tensorflow/core/platform/cpu_feature_guard.cc:193] This TensorFlow binary is optimized with oneAPI Deep Neural Network Library (oneDNN) to use the following CPU instructions in performance-critical operations:  AVX2 AVX_VNNI FMA\n",
      "To enable them in other operations, rebuild TensorFlow with the appropriate compiler flags.\n",
      "2024-07-15 10:11:35.945057: I tensorflow/core/util/port.cc:104] oneDNN custom operations are on. You may see slightly different numerical results due to floating-point round-off errors from different computation orders. To turn them off, set the environment variable `TF_ENABLE_ONEDNN_OPTS=0`.\n"
     ]
    }
   ],
   "source": [
    "import matplotlib.pyplot as plt\n",
    "import numpy as np\n",
    "from tensorflow import keras\n",
    "import tensorflow as tf\n",
    "from collections import namedtuple\n",
    "import gymnasium as gym"
   ]
  },
  {
   "cell_type": "code",
   "execution_count": 2,
   "metadata": {},
   "outputs": [
    {
     "name": "stdout",
     "output_type": "stream",
     "text": [
      "Size of State Space ->  3\n",
      "Size of Action Space ->  1\n",
      "Max Value of Action ->  2.0\n",
      "Min Value of Action ->  -2.0\n"
     ]
    }
   ],
   "source": [
    "# Specify the `render_mode` parameter to show the attempts of the agent in a pop up window.\n",
    "env = gym.make(\"Pendulum-v1\")\n",
    "\n",
    "num_states = env.observation_space.shape[0]\n",
    "print(\"Size of State Space ->  {}\".format(num_states))\n",
    "num_actions = env.action_space.shape[0]\n",
    "print(\"Size of Action Space ->  {}\".format(num_actions))\n",
    "\n",
    "upper_bound = env.action_space.high[0]\n",
    "lower_bound = env.action_space.low[0]\n",
    "\n",
    "print(\"Max Value of Action ->  {}\".format(upper_bound))\n",
    "print(\"Min Value of Action ->  {}\".format(lower_bound))"
   ]
  },
  {
   "cell_type": "markdown",
   "metadata": {},
   "source": [
    "# Hyperparameters"
   ]
  },
  {
   "cell_type": "code",
   "execution_count": 3,
   "metadata": {},
   "outputs": [],
   "source": [
    "# Hyperparameters\n",
    "# Parameters\n",
    "N_EPISODES = 100                 # Number of episodes # 100 - 1000\n",
    "DISCOUNT_FACTOR = 0.99            # Value of the discount factor (gamma)\n",
    "N_EP_RUNNING_AVERAGE = 5         # Running average of episodes\n",
    "N_ACTIONS = env.action_space.shape[0]                     # Number of available actions (nr of angles)\n",
    "DIM_STATE = env.observation_space.shape[0]                     # State dimensionality\n",
    "REPLAY_SIZE = 30000                # 5000 - 30000\n",
    "BATCH_SIZE = 12                   # 4 - 128\n",
    "CRITIC_LR = 0.001                  # Critic learning rate 1e-2 - 1e-3\n",
    "ACTOR_LR = 0.001                  # Actor learning rate 1e-3 - 1e-4\n",
    "TARGET_REWARD = 0               # to stop the training\n",
    "MAX_ENV_STEPS = 100              # to stop the episode # one minute increments\n",
    "TAU = 0.005                       # Used to update target networks # 0.001 - 0.005\n",
    "POLICY_UPDATE_FREQ = 1           # Frequency of updating the policy\n",
    "\n",
    "# We will use these variables to compute the average episodic reward and\n",
    "# the average number of steps per episode\n",
    "episode_reward_list = []       # this list contains the total reward per episode\n",
    "episode_number_of_steps = []   # this list contains the number of steps per episode\n",
    "\n",
    "# NOTES\n",
    "TRAINING_NOTE = \"reward -0.5 onlyZ nsinus simpleNN\"\n"
   ]
  },
  {
   "cell_type": "markdown",
   "metadata": {},
   "source": [
    "### Noise model hyperparameters"
   ]
  },
  {
   "cell_type": "code",
   "execution_count": 4,
   "metadata": {},
   "outputs": [],
   "source": [
    "# Noise Model Hyperparameters\n",
    "STD_DEV = 0.05"
   ]
  },
  {
   "cell_type": "markdown",
   "metadata": {},
   "source": [
    "# Environment Definition & Testing"
   ]
  },
  {
   "cell_type": "code",
   "execution_count": 5,
   "metadata": {},
   "outputs": [],
   "source": [
    "# env = SinusoidalControlledFixedEnv(sinusoidal_components=1)\n",
    "# env.delta_t = 0.1\n",
    "# print(env.delta_t)\n",
    "# # env.max_t = 2\n",
    "# # env.delta_t = 0.01\n",
    "# env.fixed_error_ctrl_pump = [0, 0, 0, 0]\n",
    "# env.fixed_error_ctrl_alice = [np.pi, 0, 0, 0]\n",
    "# env.fixed_error_ctrl_bob = [0, 0, 0, 0]\n",
    "# env.fixed_errors_flags = [True, True, True, True, \n",
    "#                           False, True, True, True, \n",
    "#                           True, True, True, True]\n",
    "# env.latency = 1\n",
    "# env.max_t = MAX_ENV_STEPS*env.delta_t\n",
    "\n",
    "# ENV SPECIFIC\n",
    "A_UPPER_BOUND = env.action_space.high[0]\n",
    "A_LOWER_BOUND = env.action_space.low[0]"
   ]
  },
  {
   "cell_type": "markdown",
   "metadata": {},
   "source": [
    "### Test output"
   ]
  },
  {
   "cell_type": "code",
   "execution_count": 6,
   "metadata": {},
   "outputs": [],
   "source": [
    "# state = env.reset()\n",
    "# done = False\n",
    "# baseline_reward = 0\n",
    "# while not done:\n",
    "#     state, reward, done, _ = env.step()\n",
    "#     baseline_reward += reward\n",
    "#     if done:\n",
    "#         break\n",
    "\n",
    "# plt.plot(env.qber_history)"
   ]
  },
  {
   "cell_type": "markdown",
   "metadata": {},
   "source": [
    "# Agents definition"
   ]
  },
  {
   "cell_type": "code",
   "execution_count": 7,
   "metadata": {},
   "outputs": [],
   "source": [
    "class Agent(object):\n",
    "    ''' Base agent class, used as a parent class\n",
    "\n",
    "        Args:\n",
    "            n_actions (int): number of actions\n",
    "\n",
    "        Attributes:\n",
    "            n_actions (int): where we store the number of actions\n",
    "            last_action (np.array): last action taken by the agent\n",
    "    '''\n",
    "    def __init__(self, n_actions: int):\n",
    "        self.n_actions = n_actions\n",
    "        self.last_action = None\n",
    "\n",
    "    def forward(self, state: np.ndarray):\n",
    "        ''' Performs a forward computation '''\n",
    "        pass\n",
    "\n",
    "    def backward(self):\n",
    "        ''' Performs a backward pass on the network '''\n",
    "        pass"
   ]
  },
  {
   "cell_type": "code",
   "execution_count": 8,
   "metadata": {},
   "outputs": [],
   "source": [
    "class RandomAgent(Agent):\n",
    "    ''' Agent taking actions uniformly at random, child of the class Agent'''\n",
    "    def __init__(self, n_actions: int):\n",
    "        super(RandomAgent, self).__init__(n_actions)\n",
    "\n",
    "    def forward(self, state: np.ndarray) -> int:\n",
    "        ''' Compute an action uniformly at random across n_actions possible\n",
    "            choices\n",
    "\n",
    "            Returns:\n",
    "                action np.array(int): the random action for each angle\n",
    "        '''\n",
    "        action = []\n",
    "        for i in range(self.n_actions):\n",
    "            action.append(np.random.randint(-2*np.pi, 2*np.pi))\n",
    "        self.last_action = np.array(action)\n",
    "        return self.last_action"
   ]
  },
  {
   "cell_type": "markdown",
   "metadata": {},
   "source": [
    "# Define Buffer\n",
    "\n",
    "Create a class for the experience replay buffer"
   ]
  },
  {
   "cell_type": "code",
   "execution_count": 9,
   "metadata": {},
   "outputs": [],
   "source": [
    "Experience = namedtuple('Experience',\n",
    "                        ['state', 'action', 'reward', 'next_state', 'done'])\n",
    "class ExperienceReplayBuffer:\n",
    "    \"\"\" Class used to store a buffer containing experiences of the RL agent.\n",
    "    \"\"\"\n",
    "    def __init__(self, buffer_capacity=100000, batch_size=64, critic_model=None, actor_model=None, target_actor=None, target_critic=None, critic_optimizer=None, actor_optimizer=None):\n",
    "        # Number of \"experiences\" to store at max\n",
    "        self.buffer_capacity = buffer_capacity\n",
    "        # Num of tuples to train on.\n",
    "        self.batch_size = batch_size\n",
    "\n",
    "        # Its tells us num of times record() was called.\n",
    "        self.buffer_counter = 0\n",
    "\n",
    "        # Instead of list of tuples as the exp.replay concept\n",
    "        # We use different np.arrays for each tuple element\n",
    "        self.state_buffer = np.zeros((self.buffer_capacity, DIM_STATE)) \n",
    "        self.action_buffer = np.zeros((self.buffer_capacity, N_ACTIONS)) \n",
    "        self.reward_buffer = np.zeros((self.buffer_capacity, 1))\n",
    "        self.next_state_buffer = np.zeros((self.buffer_capacity, DIM_STATE)) \n",
    "        \n",
    "        # pass the models to the buffer\n",
    "        self.critic_model = critic_model\n",
    "        self.actor_model = actor_model\n",
    "        self.target_actor = target_actor\n",
    "        self.target_critic = target_critic\n",
    "        self.critic_optimizer = critic_optimizer\n",
    "        self.actor_optimizer = actor_optimizer\n",
    "\n",
    "    # Takes (s,a,r,s') observation tuple as input\n",
    "    def record(self, obs_tuple):\n",
    "        # Set index to zero if buffer_capacity is exceeded,\n",
    "        # replacing old records\n",
    "        index = self.buffer_counter % self.buffer_capacity\n",
    "\n",
    "        self.state_buffer[index] = obs_tuple[0]\n",
    "        self.action_buffer[index] = obs_tuple[1]\n",
    "        self.reward_buffer[index] = obs_tuple[2]\n",
    "        self.next_state_buffer[index] = obs_tuple[3]\n",
    "\n",
    "        self.buffer_counter += 1\n",
    "        \n",
    "    # sample a batch from the buffer\n",
    "    def sample(self, batch_size):\n",
    "        record_range = min(self.buffer_counter, self.buffer_capacity)\n",
    "        batch_indices = np.random.choice(record_range, batch_size)\n",
    "\n",
    "        # Convert to tensors\n",
    "        state_batch = tf.convert_to_tensor(self.state_buffer[batch_indices])\n",
    "        action_batch = tf.convert_to_tensor(self.action_buffer[batch_indices])\n",
    "        reward_batch = tf.convert_to_tensor(self.reward_buffer[batch_indices])\n",
    "        reward_batch = tf.cast(reward_batch, dtype=\"float32\")\n",
    "        next_state_batch = tf.convert_to_tensor(\n",
    "            self.next_state_buffer[batch_indices]\n",
    "        )\n",
    "\n",
    "        return state_batch, action_batch, reward_batch, next_state_batch\n",
    "    \n",
    "    # Eager execution is turned on by default in TensorFlow 2. Decorating with tf.function allows\n",
    "    # TensorFlow to build a static graph out of the logic and computations in our function.\n",
    "    # This provides a large speed up for blocks of code that contain many small TensorFlow operations such as this one.\n",
    "    @tf.function\n",
    "    def update(\n",
    "        self,\n",
    "        state_batch,\n",
    "        action_batch,\n",
    "        reward_batch,\n",
    "        next_state_batch,\n",
    "    ):\n",
    "        # Training and updating Actor & Critic networks.\n",
    "        # See Pseudo Code.\n",
    "        \n",
    "        # step 11:\n",
    "        # update critic\n",
    "        with tf.GradientTape() as tape:\n",
    "            target_actions = self.target_actor(next_state_batch, training=True)\n",
    "            # print([next_state_batch, target_actions])\n",
    "            y = reward_batch + DISCOUNT_FACTOR * self.target_critic(\n",
    "                [next_state_batch, target_actions], training=True\n",
    "            )\n",
    "            critic_value = self.critic_model([state_batch, action_batch], training=True)\n",
    "            critic_loss = tf.reduce_mean(tf.square(y - critic_value))\n",
    "\n",
    "        critic_grad = tape.gradient(critic_loss, self.critic_model.trainable_variables)\n",
    "        self.critic_optimizer.apply_gradients(\n",
    "            zip(critic_grad, self.critic_model.trainable_variables)\n",
    "        )\n",
    "\n",
    "        # step 13:\n",
    "        # update actor\n",
    "        if self.buffer_counter % POLICY_UPDATE_FREQ == 0:\n",
    "            with tf.GradientTape() as tape:\n",
    "                actions = self.actor_model(state_batch, training=True)\n",
    "                critic_value = self.critic_model([state_batch, actions], training=True)\n",
    "                # Used `-value` as we want to maximize the value given\n",
    "                # by the critic for our actions\n",
    "                actor_loss = -tf.reduce_mean(critic_value)\n",
    "\n",
    "            actor_grad = tape.gradient(actor_loss, self.actor_model.trainable_variables)\n",
    "            self.actor_optimizer.apply_gradients(\n",
    "                zip(actor_grad, self.actor_model.trainable_variables)\n",
    "            )\n",
    "\n",
    "    # We compute the loss and update parameters\n",
    "    def learn(self):\n",
    "        # step 9:\n",
    "        # Sample a batch of experiences from the buffer\n",
    "        state_batch, action_batch, reward_batch, next_state_batch = self.sample(self.batch_size) \n",
    "        \n",
    "        # steps 10-13:\n",
    "        # update the actor and critic networks\n",
    "        self.update(state_batch, action_batch, reward_batch, next_state_batch)\n",
    "        \n",
    "# This update target parameters slowly\n",
    "# Based on rate `tau`, which is much less than one.\n",
    "def update_target(target, original, tau):\n",
    "    target_weights = target.get_weights()\n",
    "    original_weights = original.get_weights()\n",
    "\n",
    "    for i in range(len(target_weights)):\n",
    "        target_weights[i] = original_weights[i] * tau + target_weights[i] * (1 - tau)\n",
    "\n",
    "    target.set_weights(target_weights)"
   ]
  },
  {
   "cell_type": "markdown",
   "metadata": {},
   "source": [
    "# Define Noise Func"
   ]
  },
  {
   "cell_type": "code",
   "execution_count": 10,
   "metadata": {},
   "outputs": [],
   "source": [
    "class OUActionNoise:\n",
    "    def __init__(self, mean, std_deviation, theta=0.15, dt=1e-2, x_initial=None):\n",
    "        self.theta = theta\n",
    "        self.mean = mean\n",
    "        self.std_dev = std_deviation\n",
    "        self.dt = dt\n",
    "        self.x_initial = x_initial\n",
    "        self.reset()\n",
    "\n",
    "    def __call__(self):\n",
    "        # Formula taken from https://www.wikipedia.org/wiki/Ornstein-Uhlenbeck_process\n",
    "        x = (\n",
    "            self.x_prev\n",
    "            + self.theta * (self.mean - self.x_prev) * self.dt\n",
    "            + self.std_dev * np.sqrt(self.dt) * np.random.normal(size=self.mean.shape)\n",
    "        )\n",
    "        # Store x into x_prev\n",
    "        # Makes next noise dependent on current one\n",
    "        self.x_prev = x\n",
    "        return x\n",
    "\n",
    "    def reset(self):\n",
    "        if self.x_initial is not None:\n",
    "            self.x_prev = self.x_initial\n",
    "        else:\n",
    "            self.x_prev = np.zeros_like(self.mean)\n",
    "\n",
    "class GaussNoise:\n",
    "    def __init__(self, mean, std_deviation):\n",
    "        self.mean = mean\n",
    "        self.std_dev = std_deviation\n",
    "    \n",
    "    def __call__(self):\n",
    "        return np.random.normal(self.mean, self.std_dev)\n",
    "    \n",
    "    def reset(self):\n",
    "        pass"
   ]
  },
  {
   "cell_type": "code",
   "execution_count": 11,
   "metadata": {},
   "outputs": [],
   "source": [
    "# Noise model\n",
    "ou_noise = OUActionNoise(mean=np.zeros(1), std_deviation=float(STD_DEV) * np.ones(1), theta=0.05)\n",
    "\n",
    "gauss_noise = GaussNoise(mean=np.zeros(1), std_deviation=float(STD_DEV) * np.ones(1))"
   ]
  },
  {
   "cell_type": "markdown",
   "metadata": {},
   "source": [
    "# Define Actor and Critic Networks"
   ]
  },
  {
   "cell_type": "code",
   "execution_count": 12,
   "metadata": {},
   "outputs": [],
   "source": [
    "from keras.regularizers import l2\n",
    "from keras import layers\n",
    "\n",
    "def get_actor(num_states: int, num_actions: int, upper_bound: float):\n",
    "    # Initialize weights between -3e-3 and 3-e3\n",
    "    last_init = keras.initializers.RandomUniform(minval=-0.003, maxval=0.003)\n",
    "\n",
    "    inputs = layers.Input(shape=(num_states,))\n",
    "    out = layers.Dense(128, activation=\"relu\")(inputs)\n",
    "    out = layers.Dense(128, activation=\"relu\")(out)\n",
    "    # out = layers.BatchNormalization()(out)\n",
    "    # out = layers.LeakyReLU()(out)\n",
    "    # out = layers.Dense(512, activation=\"relu\")(out)\n",
    "    # out = layers.BatchNormalization()(out)\n",
    "    # out = layers.LeakyReLU()(out)\n",
    "    # out = layers.Dense(256, activation=\"relu\", kernel_regularizer=l2(0.01))(out)\n",
    "    # out = layers.BatchNormalization()(out)\n",
    "    # out = layers.LeakyReLU()(out)\n",
    "    outputs = layers.Dense(num_actions, activation=\"tanh\", kernel_initializer=last_init)(out)\n",
    "\n",
    "    outputs = outputs * upper_bound\n",
    "    model = keras.Model(inputs, outputs)\n",
    "    return model\n",
    "\n",
    "def get_critic(num_states: int, num_actions: int):\n",
    "    state_input = layers.Input(shape=(num_states,))\n",
    "    state_out = layers.Dense(16, activation=\"relu\")(state_input)\n",
    "    # state_out = layers.BatchNormalization()(state_out)\n",
    "    # state_out = layers.LeakyReLU()(state_out)\n",
    "    state_out = layers.Dense(32, activation=\"relu\")(state_out)\n",
    "    # state_out = layers.BatchNormalization()(state_out)\n",
    "    # state_out = layers.LeakyReLU()(state_out)\n",
    "\n",
    "    action_input = layers.Input(shape=(num_actions,))\n",
    "    action_out = layers.Dense(32, activation=\"relu\")(action_input)\n",
    "    # action_out = layers.BatchNormalization()(action_out)\n",
    "    # action_out = layers.LeakyReLU()(action_out)\n",
    "\n",
    "    concat = layers.Concatenate()([state_out, action_out])\n",
    "\n",
    "    out = layers.Dense(256, activation=\"relu\")(concat)\n",
    "    # out = layers.BatchNormalization()(out)\n",
    "    # out = layers.LeakyReLU()(out)\n",
    "    out = layers.Dense(256, activation=\"relu\")(out)\n",
    "    # out = layers.BatchNormalization()(out)\n",
    "    # out = layers.LeakyReLU()(out)\n",
    "    outputs = layers.Dense(1)(out)\n",
    "\n",
    "    # Outputs single value for give state-action\n",
    "    model = keras.Model([state_input, action_input], outputs)\n",
    "\n",
    "    return model"
   ]
  },
  {
   "cell_type": "markdown",
   "metadata": {},
   "source": [
    "# Define DDPG Agent class"
   ]
  },
  {
   "cell_type": "code",
   "execution_count": 13,
   "metadata": {},
   "outputs": [],
   "source": [
    "class DDPGAgent(Agent):\n",
    "    def __init__(self, state_size, action_size, replay_length=5000, batch_size=64, gamma=0.99, learning_rate_critic=1e-2, learning_rate_actor=1e-3, n_episodes=800, tau=0.001, noise_model=None):\n",
    "        super(DDPGAgent, self).__init__(action_size)\n",
    "        \n",
    "        self.learning_rate_critic = learning_rate_critic\n",
    "        self.learning_rate_actor = learning_rate_actor\n",
    "        self.n_episodes = n_episodes\n",
    "        self.episode = 0\n",
    "        self.epsilon = 1\n",
    "        self.Z = 0.9*self.n_episodes\n",
    "        self.epsilon_max = 0.99\n",
    "        self.epsilon_min = 0.05\n",
    "        self.tau = tau\n",
    "        self.noise_model = noise_model\n",
    "        \n",
    "        # env specific\n",
    "        self.min_action = A_LOWER_BOUND\n",
    "        self.max_action = A_UPPER_BOUND\n",
    "        \n",
    "        # step 1:\n",
    "        ### Create actor and critic networks\n",
    "        self.actor_model = get_actor(state_size, action_size, self.max_action)\n",
    "        self.critic_model = get_critic(state_size, action_size)\n",
    "\n",
    "        self.target_actor = get_actor(state_size, action_size, self.max_action)\n",
    "        self.target_critic = get_critic(state_size, action_size)\n",
    "\n",
    "        # Making the weights equal initially\n",
    "        self.target_actor.set_weights(self.actor_model.get_weights())\n",
    "        self.target_critic.set_weights(self.critic_model.get_weights())\n",
    "\n",
    "        critic_optimizer = keras.optimizers.Adam(learning_rate_critic)\n",
    "        actor_optimizer = keras.optimizers.Adam(learning_rate_actor)\n",
    "        \n",
    "        # step 2:\n",
    "        ### Create Experience replay buffer\n",
    "        self.buffer = ExperienceReplayBuffer(buffer_capacity=replay_length, batch_size=batch_size, critic_model=self.critic_model, actor_model=self.actor_model, target_actor=self.target_actor, target_critic=self.target_critic, critic_optimizer=critic_optimizer, actor_optimizer=actor_optimizer)\n",
    "        self.batch_size = batch_size\n",
    "        self.gamma = gamma\n",
    "        \n",
    "        ### Agent init\n",
    "        self.state_size = state_size\n",
    "        self.action_size = action_size\n",
    "        \n",
    "        ### Steps\n",
    "        self.target_update_rate = int(replay_length/batch_size) # suggested as tip\n",
    "        self.steps = 0  # Counter for steps taken\n",
    "\n",
    "    def forward(self, state):\n",
    "        # step 7:\n",
    "        # take noisy continuous action a_t at s_t   \n",
    "        sampled_actions = tf.squeeze(self.actor_model(state))\n",
    "        noise = self.noise_model()\n",
    "        # Adding noise to action\n",
    "        sampled_actions = sampled_actions.numpy() + noise\n",
    "\n",
    "        # We make sure action is within bounds\n",
    "        legal_action = np.clip(sampled_actions, A_LOWER_BOUND, A_UPPER_BOUND)\n",
    "\n",
    "        # return action\n",
    "        return np.squeeze(legal_action)\n",
    "\n",
    "    def backward(self):\n",
    "        if self.buffer.buffer_counter < self.batch_size:\n",
    "            return\n",
    "        \n",
    "        # steps 8-13:\n",
    "        self.buffer.learn()\n",
    "\n",
    "        # step 12:\n",
    "        if self.steps % POLICY_UPDATE_FREQ == 0:\n",
    "            # step 14:\n",
    "            # soft update target networks\n",
    "            update_target(self.target_actor, self.actor_model, self.tau)\n",
    "            update_target(self.target_critic, self.critic_model, self.tau)\n",
    "        \n",
    "        # step 16:\n",
    "        # Increment steps counter\n",
    "        self.steps += 1"
   ]
  },
  {
   "cell_type": "markdown",
   "metadata": {},
   "source": [
    "## Some useful funcs"
   ]
  },
  {
   "cell_type": "code",
   "execution_count": 14,
   "metadata": {},
   "outputs": [],
   "source": [
    "def running_average(x, N):\n",
    "    ''' Function used to compute the running average\n",
    "        of the last N elements of a vector x\n",
    "    '''\n",
    "    if len(x) >= N:\n",
    "        y = np.copy(x)\n",
    "        y[N-1:] = np.convolve(x, np.ones((N, )) / N, mode='valid')\n",
    "    else:\n",
    "        y = np.copy(x)\n",
    "    return y\n",
    "\n",
    "\n",
    "def faster_running_average(x, N, last_average):\n",
    "    if len(x) > N:\n",
    "        return last_average + (1./N)*(abs(x[-1]) - abs(x[-N - 1]))\n",
    "    else:\n",
    "        return sum(x)/len(x)"
   ]
  },
  {
   "cell_type": "markdown",
   "metadata": {},
   "source": [
    "# Agent initialisation"
   ]
  },
  {
   "cell_type": "code",
   "execution_count": 15,
   "metadata": {},
   "outputs": [
    {
     "name": "stderr",
     "output_type": "stream",
     "text": [
      "2024-07-15 10:11:37.178731: I tensorflow/core/platform/cpu_feature_guard.cc:193] This TensorFlow binary is optimized with oneAPI Deep Neural Network Library (oneDNN) to use the following CPU instructions in performance-critical operations:  AVX2 AVX_VNNI FMA\n",
      "To enable them in other operations, rebuild TensorFlow with the appropriate compiler flags.\n"
     ]
    }
   ],
   "source": [
    "# agent initialization\n",
    "# agent = RandomAgent(n_actions) # random\n",
    "# step 1 & 2:\n",
    "agent = DDPGAgent(DIM_STATE, N_ACTIONS, REPLAY_SIZE, batch_size=BATCH_SIZE, gamma=DISCOUNT_FACTOR, learning_rate_actor=ACTOR_LR, learning_rate_critic=CRITIC_LR, n_episodes=N_EPISODES, tau=TAU, noise_model=gauss_noise)"
   ]
  },
  {
   "cell_type": "markdown",
   "metadata": {},
   "source": [
    "# Training"
   ]
  },
  {
   "cell_type": "code",
   "execution_count": 16,
   "metadata": {},
   "outputs": [
    {
     "name": "stderr",
     "output_type": "stream",
     "text": [
      "  0%|          | 0/100 [00:00<?, ?it/s]"
     ]
    }
   ],
   "source": [
    "### Training process\n",
    "from tqdm import tqdm\n",
    "# To store reward history of each episode\n",
    "ep_reward_list = []\n",
    "# To store average reward history of last few episodes\n",
    "avg_reward_list = []\n",
    "\n",
    "# Initialize tqdm loop\n",
    "pbar = tqdm(range(N_EPISODES))\n",
    "\n",
    "actual_episodes = 0"
   ]
  },
  {
   "cell_type": "markdown",
   "metadata": {},
   "source": [
    "To facilitate getting higher-quality training data, you may reduce the scale of the noise over the course of training. (We do not do this in our implementation, and keep noise scale fixed throughout.)"
   ]
  },
  {
   "cell_type": "markdown",
   "metadata": {},
   "source": [
    "At test time, to see how well the policy exploits what it has learned, we do not add noise to the actions."
   ]
  },
  {
   "cell_type": "markdown",
   "metadata": {},
   "source": [
    "Our DDPG implementation uses a trick to improve exploration at the start of training. For a fixed number of steps at the beginning (set with the start_steps keyword argument), the agent takes actions which are sampled from a uniform random distribution over valid actions. After that, it returns to normal DDPG exploration."
   ]
  },
  {
   "cell_type": "code",
   "execution_count": 18,
   "metadata": {},
   "outputs": [
    {
     "name": "stderr",
     "output_type": "stream",
     "text": [
      "Episode 100 Episode Reward: -1345.96 Avg Reward (5): -1376.60: 100%|██████████| 100/100 [01:00<00:00,  1.66it/s]\n"
     ]
    }
   ],
   "source": [
    "import datetime\n",
    "\n",
    "pbar = tqdm(range(N_EPISODES))\n",
    "\n",
    "avg_reward = 0.\n",
    "avg_steps = 0.\n",
    "# step 3:\n",
    "# episode loop\n",
    "for ep in pbar:\n",
    "    # print(\"new\")\n",
    "    # Reset environment data and initialize variables\n",
    "    done = False\n",
    "    truncated = False\n",
    "    # step 4:\n",
    "    prev_state, _ = env.reset()\n",
    " \n",
    "    total_episode_reward = 0.\n",
    "    # step 5:\n",
    "    t = 0\n",
    "    # step 6: \n",
    "    # environment loop\n",
    "    while True:\n",
    "        tf_prev_state = tf.expand_dims(\n",
    "            tf.convert_to_tensor(prev_state), 0\n",
    "        )\n",
    "\n",
    "        # step 7:\n",
    "        # noisy actor action\n",
    "        action = agent.forward(tf_prev_state)\n",
    "\n",
    "        # step 8:\n",
    "        # Execute action in the environment and append\n",
    "        # _a = [np.array(action), np.zeros(4), np.zeros(4), np.zeros(4)]\n",
    "        # print(_a)\n",
    "        # print(action)\n",
    "        state, reward, done, truncated, _ = env.step([action])\n",
    "        # append to buffer\n",
    "        agent.buffer.record((prev_state, action, reward, state))\n",
    "        \n",
    "        # step 9-15: see function definition\n",
    "        agent.backward()\n",
    "        \n",
    "        # Update episode reward\n",
    "        total_episode_reward += reward\n",
    "        \n",
    "        # End this episode when `done`\n",
    "        if done or truncated:\n",
    "            break\n",
    "\n",
    "        # step 16: Update state for next iteration\n",
    "        prev_state = state\n",
    "        t += 1\n",
    "        # print(t)\n",
    "\n",
    "    # Append episode reward and total number of steps\n",
    "    episode_reward_list.append(total_episode_reward)\n",
    "    episode_number_of_steps.append(t)\n",
    "\n",
    "    avg_reward = running_average(episode_reward_list, N_EP_RUNNING_AVERAGE)[-1]\n",
    "    avg_steps = running_average(episode_number_of_steps, N_EP_RUNNING_AVERAGE)[-1]\n",
    "\n",
    "    agent.episode += 1\n",
    "\n",
    "    # Updates the tqdm update bar with fresh information\n",
    "    # (episode number, total reward of the last episode, total number of Steps\n",
    "    # of the last episode, average reward, average number of steps)\n",
    "    pbar.set_description(f\"Episode {ep+1} Episode Reward: {total_episode_reward:.2f} Avg Reward ({N_EP_RUNNING_AVERAGE}): {avg_reward:.2f}\")\n",
    "\n",
    "    actual_episodes += 1\n",
    "    \n",
    "    # stop if we hit reward threshold\n",
    "    if avg_reward >= TARGET_REWARD:\n",
    "        break\n",
    "\n",
    "\n",
    "total_training_time = pbar.format_dict['elapsed']\n",
    "avg_time_per_ep = total_training_time/actual_episodes\n",
    "training_completed_timestamp = datetime.datetime.now()"
   ]
  },
  {
   "cell_type": "markdown",
   "metadata": {},
   "source": [
    "# Save plots and data"
   ]
  },
  {
   "cell_type": "markdown",
   "metadata": {},
   "source": [
    "### Save params"
   ]
  },
  {
   "cell_type": "code",
   "execution_count": null,
   "metadata": {},
   "outputs": [],
   "source": [
    "# save params in csv to avoid file name length issue\n",
    "import csv\n",
    "\n",
    "# create UID\n",
    "import uuid\n",
    "uid = uuid.uuid4()\n",
    "\n",
    "# save plot params\n",
    "dir = \"output/\"\n",
    "fname = f\"{uid}_E{N_EPISODES}_\"\n",
    "fname2= \"_gamma{gamma}_tau{tau}_nactions{num_actions}_nstates{num_states}_lbound{lower_bound:.2f}_ubound{upper_bound:.2f}_latency{env.latency}_lractor{actor_lr:.4f}_lrcritic{critic_lr:.4f}_stdef{std_dev:.2f}_\"+TRAINING_NOTE+\".png\"\n",
    "\n",
    "# Create a list of parameter names and values\n",
    "params = [\n",
    "    ('uid', str(uid)),\n",
    "    ('date_completed', training_completed_timestamp),\n",
    "    ('total_episodes', N_EPISODES),\n",
    "    ('gamma', DISCOUNT_FACTOR),\n",
    "    ('tau', TAU),\n",
    "    ('num_actions', N_ACTIONS),\n",
    "    ('num_states', DIM_STATE),\n",
    "    ('lower_bound', A_LOWER_BOUND),\n",
    "    ('upper_bound', A_UPPER_BOUND),\n",
    "    ('ep_running_average', N_EP_RUNNING_AVERAGE),\n",
    "    ('buffer_size', REPLAY_SIZE),\n",
    "    ('TARGET_REWARD', TARGET_REWARD),\n",
    "    ('max_env_steps', MAX_ENV_STEPS),\n",
    "    # ('latency', env.latency),\n",
    "    ('actor_lr', ACTOR_LR),\n",
    "    ('critic_lr', CRITIC_LR),\n",
    "    ('std_dev', STD_DEV),\n",
    "    # ('env.delta_t', env.delta_t),\n",
    "    # ('env.max_t', env.max_t),\n",
    "    ('env_type', env.__class__.__name__),\n",
    "    # ('env.fixed_errors_flags', env.fixed_errors_flags),\n",
    "    # ('env.fixed_error_ctrl_pump', env.fixed_error_ctrl_pump),\n",
    "    # ('env.fixed_error_ctrl_alice', env.fixed_error_ctrl_alice),\n",
    "    # ('env.fixed_error_ctrl_bob', env.fixed_error_ctrl_bob),\n",
    "    ('total_training_time', total_training_time),\n",
    "    ('avg_time_per_ep', avg_time_per_ep),\n",
    "    # ('baseline_reward', baseline_reward),\n",
    "    ('note', TRAINING_NOTE)\n",
    "]\n",
    "\n",
    "# # File name for parameters, using the same uid\n",
    "# params_filename = f\"{dir}{uid}_params.csv\"\n",
    "\n",
    "# # Write parameters to a CSV file\n",
    "# with open(params_filename, 'w', newline='') as csvfile:\n",
    "#     writer = csv.writer(csvfile)\n",
    "#     writer.writerow(['Parameter', 'Value'])\n",
    "#     writer.writerows(params)"
   ]
  },
  {
   "cell_type": "markdown",
   "metadata": {},
   "source": [
    "### Rewards plot"
   ]
  },
  {
   "cell_type": "code",
   "execution_count": 19,
   "metadata": {},
   "outputs": [
    {
     "data": {
      "text/plain": [
       "Text(0, 0.5, 'Avg. Episodic Reward')"
      ]
     },
     "execution_count": 19,
     "metadata": {},
     "output_type": "execute_result"
    },
    {
     "data": {
      "image/png": "[encoded data removed]",
      "text/plain": [
       "<Figure size 640x480 with 1 Axes>"
      ]
     },
     "metadata": {},
     "output_type": "display_data"
    }
   ],
   "source": [
    "\n",
    "# Plotting graph\n",
    "# Episodes versus Avg. Rewards\n",
    "plt.plot(episode_reward_list)\n",
    "plt.xlabel(\"Episode\")\n",
    "plt.ylabel(\"Avg. Episodic Reward\")\n",
    "\n",
    "# Save the plot with a simplified name\n",
    "# plot_filename = f\"{dir}{uid}_rewards.png\"\n",
    "# plt.savefig(plot_filename)"
   ]
  },
  {
   "cell_type": "markdown",
   "metadata": {},
   "source": [
    "### QBERs plot"
   ]
  },
  {
   "cell_type": "code",
   "execution_count": null,
   "metadata": {},
   "outputs": [
    {
     "data": {
      "image/png": "[encoded data removed]",
      "text/plain": [
       "<Figure size 640x480 with 1 Axes>"
      ]
     },
     "metadata": {},
     "output_type": "display_data"
    }
   ],
   "source": [
    "# fig = plt.figure()\n",
    "# plt.ylim(0, 1)\n",
    "# plt.plot(env.qber_history)\n",
    "# plt.legend([\"QBERz\", \"QBERx\"])\n",
    "\n",
    "# # Save the plot with a simplified name\n",
    "# plot_filename = f\"{dir}{uid}_QBER.png\"\n",
    "# plt.savefig(plot_filename)"
   ]
  }
 ],
 "metadata": {
  "kernelspec": {
   "display_name": "Python 3",
   "language": "python",
   "name": "python3"
  },
  "language_info": {
   "codemirror_mode": {
    "name": "ipython",
    "version": 3
   },
   "file_extension": ".py",
   "mimetype": "text/x-python",
   "name": "python",
   "nbconvert_exporter": "python",
   "pygments_lexer": "ipython3",
   "version": "3.8.10"
  }
 },
 "nbformat": 4,
 "nbformat_minor": 2
}
