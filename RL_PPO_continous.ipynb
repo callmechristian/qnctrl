{
 "cells": [
  {
   "cell_type": "code",
   "execution_count": 2,
   "metadata": {},
   "outputs": [],
   "source": [
    "import os\n",
    "\n",
    "os.environ[\"KERAS_BACKEND\"] = \"tensorflow\"\n",
    "\n",
    "import keras\n",
    "from keras import layers\n",
    "\n",
    "import numpy as np\n",
    "import tensorflow as tf\n",
    "import gymnasium as gym\n",
    "import scipy.signal\n",
    "import matplotlib.pyplot as plt\n",
    "\n",
    "from environment.models.simple_control_fixed import SimpleControlledFixedEnv"
   ]
  },
  {
   "cell_type": "markdown",
   "metadata": {},
   "source": [
    "# Hyperparameters & Environment"
   ]
  },
  {
   "cell_type": "code",
   "execution_count": 2,
   "metadata": {},
   "outputs": [],
   "source": [
    "# Environment Hyperparameters\n",
    "ENV_DELTA_T = 0.1\n",
    "ENV_MAX_STEPS = 100\n",
    "ENV_LATENCY = 0\n",
    "# ENV ACTIONS\n",
    "ENV_A_UPPER_BOUND = np.pi\n",
    "ENV_A_LOWER_BOUND = 0\n",
    "\n",
    "\n",
    "# Hyperparameters of the PPO algorithm\n",
    "EPISODES = 100 # Number of episodes to run\n",
    "GAMMA = 0.95 # Discount factor\n",
    "CLIP_RATIO = 0.3 # Clipping parameter epsilon\n",
    "POLICY_LEARNING_RATE = 5e-4 # Learning rate of policy optimizer\n",
    "VALUE_FUNCTION_LEARNING_RATE = 1e-3 # Learning rate of value function optimizer\n",
    "TRAIN_POLICY_ITERATIONS = 80 # Number of iterations of training policy per episode\n",
    "TRAIN_VALUE_ITERATIONS = 80 # Number of iterations of training value function per episode\n",
    "LAMBDA = 0.95 # Lambda parameter for GAE\n",
    "TARGET_KL = 0.025 # Desired KL divergence between old and new policy\n",
    "HIDDEN_LAYER_SIZES = (256, 256) # Size of hidden layers of neural networks\n",
    "# actions & observations\n",
    "NUM_ACTIONS = 2 \n",
    "NUM_OBSERVATIONS = 2*ENV_LATENCY if ENV_LATENCY > 0 else 3\n",
    "\n",
    "# True if you want to render the environment\n",
    "RENDER = False"
   ]
  },
  {
   "cell_type": "markdown",
   "metadata": {},
   "source": [
    "## Environment"
   ]
  },
  {
   "cell_type": "code",
   "execution_count": 3,
   "metadata": {},
   "outputs": [],
   "source": [
    "env = SimpleControlledFixedEnv(noise_model='sinusoidal', sinusoidal_components=1, seed = 1337)\n",
    "# print(env.delta_t)\n",
    "# env.max_t = 2\n",
    "env.delta_t = ENV_DELTA_T\n",
    "env.fixed_error_ctrl_pump = [0, 0, 0, 0]\n",
    "env.fixed_error_ctrl_alice = [np.pi, 0, 0, 0]\n",
    "env.fixed_error_ctrl_bob = [0, 0, 0, 0]\n",
    "env.fixed_errors_flags = [True, True, True, True, \n",
    "                          False, True, True, True, \n",
    "                          True, True, True, True]\n",
    "env.latency = ENV_LATENCY\n",
    "env.max_t = ENV_MAX_STEPS*ENV_DELTA_T"
   ]
  },
  {
   "cell_type": "markdown",
   "metadata": {},
   "source": [
    "## Env testing"
   ]
  },
  {
   "cell_type": "code",
   "execution_count": 4,
   "metadata": {},
   "outputs": [
    {
     "name": "stdout",
     "output_type": "stream",
     "text": [
      "Base reward: -35.374157190964\n"
     ]
    },
    {
     "data": {
      "image/png": "[encoded data removed]",
      "text/plain": [
       "<Figure size 640x480 with 1 Axes>"
      ]
     },
     "metadata": {},
     "output_type": "display_data"
    }
   ],
   "source": [
    "state = env.reset()\n",
    "done = False\n",
    "baseline_reward = 0\n",
    "while not done:\n",
    "    state, reward, done = env.step()\n",
    "    baseline_reward += reward\n",
    "    if done:\n",
    "        break\n",
    "\n",
    "plt.ylim(0, 1)\n",
    "plt.plot(env.qber_history)\n",
    "plt.legend(['QBERz', 'QBERx'])\n",
    "print(\"Base reward:\", baseline_reward)"
   ]
  },
  {
   "cell_type": "markdown",
   "metadata": {},
   "source": [
    "# Definitions"
   ]
  },
  {
   "cell_type": "code",
   "execution_count": null,
   "metadata": {},
   "outputs": [],
   "source": [
    "def actor_network(input_shape, action_dim):\n",
    "    inputs = tf.keras.Input(shape=input_shape)\n",
    "    x = tf.keras.layers.Dense(64, activation='relu')(inputs)\n",
    "    x = tf.keras.layers.Dense(64, activation='relu')(x)\n",
    "    mean = tf.keras.layers.Dense(action_dim, activation=None)(x)\n",
    "    log_std = tf.keras.layers.Dense(action_dim, activation=None)(x)\n",
    "    std = tf.exp(log_std)\n",
    "    return tf.keras.Model(inputs=inputs, outputs=[mean, std])"
   ]
  },
  {
   "cell_type": "code",
   "execution_count": 5,
   "metadata": {},
   "outputs": [],
   "source": [
    "def discounted_cumulative_sums(x, discount):\n",
    "    # Discounted cumulative sums of vectors for computing rewards-to-go and advantage estimates\n",
    "    return scipy.signal.lfilter([1], [1, float(-discount)], x[::-1], axis=0)[::-1]\n",
    "\n",
    "\n",
    "class Buffer:\n",
    "    # Buffer for storing trajectories\n",
    "    def __init__(self, observation_dimensions, size, gamma=0.99, lam=0.95):\n",
    "        # Buffer initialization\n",
    "        self.observation_buffer = np.zeros(\n",
    "            (size, observation_dimensions), dtype=np.float32\n",
    "        )\n",
    "        self.action_buffer = np.zeros(size, dtype=np.int32)\n",
    "        self.advantage_buffer = np.zeros(size, dtype=np.float32)\n",
    "        self.reward_buffer = np.zeros(size, dtype=np.float32)\n",
    "        self.return_buffer = np.zeros(size, dtype=np.float32)\n",
    "        self.value_buffer = np.zeros(size, dtype=np.float32)\n",
    "        self.logprobability_buffer = np.zeros(size, dtype=np.float32)\n",
    "        self.gamma, self.lam = gamma, lam\n",
    "        self.pointer, self.trajectory_start_index = 0, 0\n",
    "\n",
    "    def store(self, observation, action, reward, value, logprobability):\n",
    "        # Append one step of agent-environment interaction\n",
    "        self.observation_buffer[self.pointer] = observation\n",
    "        self.action_buffer[self.pointer] = action\n",
    "        self.reward_buffer[self.pointer] = reward\n",
    "        self.value_buffer[self.pointer] = value\n",
    "        self.logprobability_buffer[self.pointer] = logprobability\n",
    "        self.pointer += 1\n",
    "\n",
    "    def finish_trajectory(self, last_value=0):\n",
    "        # Finish the trajectory by computing advantage estimates and rewards-to-go\n",
    "        path_slice = slice(self.trajectory_start_index, self.pointer)\n",
    "        rewards = np.append(self.reward_buffer[path_slice], last_value)\n",
    "        values = np.append(self.value_buffer[path_slice], last_value)\n",
    "\n",
    "        deltas = rewards[:-1] + self.gamma * values[1:] - values[:-1]\n",
    "\n",
    "        self.advantage_buffer[path_slice] = discounted_cumulative_sums(\n",
    "            deltas, self.gamma * self.lam\n",
    "        )\n",
    "        self.return_buffer[path_slice] = discounted_cumulative_sums(\n",
    "            rewards, self.gamma\n",
    "        )[:-1]\n",
    "\n",
    "        self.trajectory_start_index = self.pointer\n",
    "\n",
    "    def get(self):\n",
    "        # Get all data of the buffer and normalize the advantages\n",
    "        self.pointer, self.trajectory_start_index = 0, 0\n",
    "        advantage_mean, advantage_std = (\n",
    "            np.mean(self.advantage_buffer),\n",
    "            np.std(self.advantage_buffer),\n",
    "        )\n",
    "        self.advantage_buffer = (self.advantage_buffer - advantage_mean) / advantage_std\n",
    "        return (\n",
    "            self.observation_buffer,\n",
    "            self.action_buffer,\n",
    "            self.advantage_buffer,\n",
    "            self.return_buffer,\n",
    "            self.logprobability_buffer,\n",
    "        )\n",
    "\n",
    "\n",
    "def mlp(x, sizes, activation=keras.activations.tanh, output_activation=None):\n",
    "    # Build a feedforward neural network\n",
    "    for size in sizes[:-1]:\n",
    "        x = layers.Dense(units=size, activation=activation)(x)\n",
    "    return layers.Dense(units=sizes[-1], activation=output_activation)(x)\n",
    "\n",
    "# Sample action from actor\n",
    "@tf.function\n",
    "def sample_action(observation):\n",
    "    mean, std_dev = actor(observation)\n",
    "    action = mean + tf.random.normal(tf.shape(mean)) * std_dev\n",
    "    return action\n",
    "\n",
    "\n",
    "# Train the policy by maxizing the PPO-Clip objective\n",
    "@tf.function\n",
    "def train_policy(\n",
    "    observation_buffer, action_buffer, logprobability_buffer, advantage_buffer\n",
    "):\n",
    "    with tf.GradientTape() as tape:  # Record operations for automatic differentiation.\n",
    "        ratio = tf.exp(\n",
    "            logprobabilities(actor(observation_buffer), action_buffer)\n",
    "            - logprobability_buffer\n",
    "        )\n",
    "        min_advantage = tf.where(\n",
    "            advantage_buffer > 0,\n",
    "            (1 + CLIP_RATIO) * advantage_buffer,\n",
    "            (1 - CLIP_RATIO) * advantage_buffer,\n",
    "        )\n",
    "\n",
    "        policy_loss = -tf.reduce_mean(\n",
    "            tf.minimum(ratio * advantage_buffer, min_advantage)\n",
    "        )\n",
    "    policy_grads = tape.gradient(policy_loss, actor.trainable_variables)\n",
    "    policy_optimizer.apply_gradients(zip(policy_grads, actor.trainable_variables))\n",
    "\n",
    "    kl = tf.reduce_mean(\n",
    "        logprobability_buffer\n",
    "        - logprobabilities(actor(observation_buffer), action_buffer)\n",
    "    )\n",
    "    kl = tf.reduce_sum(kl)\n",
    "    return kl\n",
    "\n",
    "\n",
    "# Train the value function by regression on mean-squared error\n",
    "@tf.function\n",
    "def train_value_function(observation_buffer, return_buffer):\n",
    "    with tf.GradientTape() as tape:  # Record operations for automatic differentiation.\n",
    "        value_loss = tf.reduce_mean((return_buffer - critic(observation_buffer)) ** 2)\n",
    "    value_grads = tape.gradient(value_loss, critic.trainable_variables)\n",
    "    value_optimizer.apply_gradients(zip(value_grads, critic.trainable_variables))"
   ]
  },
  {
   "cell_type": "code",
   "execution_count": 6,
   "metadata": {},
   "outputs": [
    {
     "name": "stderr",
     "output_type": "stream",
     "text": [
      "2024-07-16 16:47:19.377782: I tensorflow/core/platform/cpu_feature_guard.cc:193] This TensorFlow binary is optimized with oneAPI Deep Neural Network Library (oneDNN) to use the following CPU instructions in performance-critical operations:  AVX2 AVX_VNNI FMA\n",
      "To enable them in other operations, rebuild TensorFlow with the appropriate compiler flags.\n"
     ]
    }
   ],
   "source": [
    "buffer = Buffer(NUM_OBSERVATIONS, ENV_MAX_STEPS+1)\n",
    "# Initialize the actor and the critic as keras models\n",
    "observation_input = keras.Input(shape=(NUM_OBSERVATIONS,), dtype=\"float32\")\n",
    "logits = mlp(observation_input, list(HIDDEN_LAYER_SIZES) + [NUM_ACTIONS])\n",
    "actor = keras.Model(inputs=observation_input, outputs=logits)\n",
    "value = tf.squeeze(mlp(observation_input, list(HIDDEN_LAYER_SIZES) + [1]), axis=1)\n",
    "critic = keras.Model(inputs=observation_input, outputs=value)\n",
    "\n",
    "# Initialize the policy and the value function optimizers\n",
    "policy_optimizer = keras.optimizers.Adam(learning_rate=POLICY_LEARNING_RATE)\n",
    "value_optimizer = keras.optimizers.Adam(learning_rate=VALUE_FUNCTION_LEARNING_RATE)\n",
    "\n",
    "# Initialize the episode return and episode length\n",
    "episode_return, episode_length = 0, 0\n",
    "prev_observation, _ = env.reset()\n",
    "prev_observation.append(env.get_info())\n",
    "# for latency\n",
    "if isinstance(prev_observation[0], list):\n",
    "    prev_observation = np.concatenate(prev_observation).flatten().tolist()"
   ]
  },
  {
   "cell_type": "markdown",
   "metadata": {},
   "source": [
    "# Training Loop"
   ]
  },
  {
   "cell_type": "code",
   "execution_count": 7,
   "metadata": {},
   "outputs": [],
   "source": [
    "def average_last_n(lst, n=100):\n",
    "    if len(lst) < n:\n",
    "        return None\n",
    "    return sum(lst[-n:])/n"
   ]
  },
  {
   "cell_type": "code",
   "execution_count": 8,
   "metadata": {},
   "outputs": [
    {
     "name": "stderr",
     "output_type": "stream",
     "text": [
      "  0%|          | 0/100 [00:00<?, ?it/s]\n"
     ]
    },
    {
     "ename": "InvalidArgumentError",
     "evalue": "Value for attr 'TI' of float is not in the list of allowed values: uint8, int8, int32, int64\n\t; NodeDef: {{node OneHot}}; Op<name=OneHot; signature=indices:TI, depth:int32, on_value:T, off_value:T -> output:T; attr=axis:int,default=-1; attr=T:type; attr=TI:type,default=DT_INT64,allowed=[DT_UINT8, DT_INT8, DT_INT32, DT_INT64]> [Op:OneHot]",
     "output_type": "error",
     "traceback": [
      "\u001b[0;31m---------------------------------------------------------------------------\u001b[0m",
      "\u001b[0;31mInvalidArgumentError\u001b[0m                      Traceback (most recent call last)",
      "Cell \u001b[0;32mIn[8], line 31\u001b[0m\n\u001b[1;32m     29\u001b[0m \u001b[38;5;66;03m# Get the value and log-probability of the action\u001b[39;00m\n\u001b[1;32m     30\u001b[0m value_t \u001b[38;5;241m=\u001b[39m critic(prev_observation)\n\u001b[0;32m---> 31\u001b[0m logprobability_t \u001b[38;5;241m=\u001b[39m \u001b[43mlogprobabilities\u001b[49m\u001b[43m(\u001b[49m\u001b[43mlogits\u001b[49m\u001b[43m,\u001b[49m\u001b[43m \u001b[49m\u001b[43maction\u001b[49m\u001b[43m)\u001b[49m\n\u001b[1;32m     33\u001b[0m \u001b[38;5;66;03m# Store obs, act, rew, v_t, logp_pi_t\u001b[39;00m\n\u001b[1;32m     34\u001b[0m buffer\u001b[38;5;241m.\u001b[39mstore(prev_observation, action, reward, value_t, logprobability_t)\n",
      "Cell \u001b[0;32mIn[5], line 76\u001b[0m, in \u001b[0;36mlogprobabilities\u001b[0;34m(logits, a)\u001b[0m\n\u001b[1;32m     72\u001b[0m \u001b[38;5;28;01mdef\u001b[39;00m \u001b[38;5;21mlogprobabilities\u001b[39m(logits, a):\n\u001b[1;32m     73\u001b[0m     \u001b[38;5;66;03m# Compute the log-probabilities of taking actions a by using the logits (i.e. the output of the actor)\u001b[39;00m\n\u001b[1;32m     74\u001b[0m     logprobabilities_all \u001b[38;5;241m=\u001b[39m tf\u001b[38;5;241m.\u001b[39mnn\u001b[38;5;241m.\u001b[39mlog_softmax(logits)\n\u001b[1;32m     75\u001b[0m     logprobability \u001b[38;5;241m=\u001b[39m tf\u001b[38;5;241m.\u001b[39mreduce_sum(\n\u001b[0;32m---> 76\u001b[0m         \u001b[43mtf\u001b[49m\u001b[38;5;241;43m.\u001b[39;49m\u001b[43mone_hot\u001b[49m\u001b[43m(\u001b[49m\u001b[43ma\u001b[49m\u001b[43m,\u001b[49m\u001b[43m \u001b[49m\u001b[43mNUM_ACTIONS\u001b[49m\u001b[43m)\u001b[49m \u001b[38;5;241m*\u001b[39m logprobabilities_all, axis\u001b[38;5;241m=\u001b[39m\u001b[38;5;241m1\u001b[39m\n\u001b[1;32m     77\u001b[0m     )\n\u001b[1;32m     78\u001b[0m     \u001b[38;5;28;01mreturn\u001b[39;00m logprobability\n",
      "File \u001b[0;32m/usr/local/lib/python3.8/dist-packages/tensorflow/python/util/traceback_utils.py:153\u001b[0m, in \u001b[0;36mfilter_traceback.<locals>.error_handler\u001b[0;34m(*args, **kwargs)\u001b[0m\n\u001b[1;32m    151\u001b[0m \u001b[38;5;28;01mexcept\u001b[39;00m \u001b[38;5;167;01mException\u001b[39;00m \u001b[38;5;28;01mas\u001b[39;00m e:\n\u001b[1;32m    152\u001b[0m   filtered_tb \u001b[38;5;241m=\u001b[39m _process_traceback_frames(e\u001b[38;5;241m.\u001b[39m__traceback__)\n\u001b[0;32m--> 153\u001b[0m   \u001b[38;5;28;01mraise\u001b[39;00m e\u001b[38;5;241m.\u001b[39mwith_traceback(filtered_tb) \u001b[38;5;28;01mfrom\u001b[39;00m \u001b[38;5;28;01mNone\u001b[39;00m\n\u001b[1;32m    154\u001b[0m \u001b[38;5;28;01mfinally\u001b[39;00m:\n\u001b[1;32m    155\u001b[0m   \u001b[38;5;28;01mdel\u001b[39;00m filtered_tb\n",
      "File \u001b[0;32m/usr/local/lib/python3.8/dist-packages/tensorflow/python/framework/ops.py:7215\u001b[0m, in \u001b[0;36mraise_from_not_ok_status\u001b[0;34m(e, name)\u001b[0m\n\u001b[1;32m   7213\u001b[0m \u001b[38;5;28;01mdef\u001b[39;00m \u001b[38;5;21mraise_from_not_ok_status\u001b[39m(e, name):\n\u001b[1;32m   7214\u001b[0m   e\u001b[38;5;241m.\u001b[39mmessage \u001b[38;5;241m+\u001b[39m\u001b[38;5;241m=\u001b[39m (\u001b[38;5;124m\"\u001b[39m\u001b[38;5;124m name: \u001b[39m\u001b[38;5;124m\"\u001b[39m \u001b[38;5;241m+\u001b[39m name \u001b[38;5;28;01mif\u001b[39;00m name \u001b[38;5;129;01mis\u001b[39;00m \u001b[38;5;129;01mnot\u001b[39;00m \u001b[38;5;28;01mNone\u001b[39;00m \u001b[38;5;28;01melse\u001b[39;00m \u001b[38;5;124m\"\u001b[39m\u001b[38;5;124m\"\u001b[39m)\n\u001b[0;32m-> 7215\u001b[0m   \u001b[38;5;28;01mraise\u001b[39;00m core\u001b[38;5;241m.\u001b[39m_status_to_exception(e) \u001b[38;5;28;01mfrom\u001b[39;00m \u001b[38;5;28;01mNone\u001b[39;00m\n",
      "\u001b[0;31mInvalidArgumentError\u001b[0m: Value for attr 'TI' of float is not in the list of allowed values: uint8, int8, int32, int64\n\t; NodeDef: {{node OneHot}}; Op<name=OneHot; signature=indices:TI, depth:int32, on_value:T, off_value:T -> output:T; attr=axis:int,default=-1; attr=T:type; attr=TI:type,default=DT_INT64,allowed=[DT_UINT8, DT_INT8, DT_INT32, DT_INT64]> [Op:OneHot]"
     ]
    }
   ],
   "source": [
    "from tqdm import tqdm\n",
    "pbar = tqdm(range(EPISODES))\n",
    "\n",
    "rewards = []\n",
    "ep_rewards = []\n",
    "\n",
    "# Iterate over the number of epochs\n",
    "for epoch in pbar:    \n",
    "    # Initialize the sum of the returns, lengths and number of episodes for each epoch\n",
    "    sum_return = 0\n",
    "    sum_length = 0\n",
    "    num_episodes = 0\n",
    "    # Iterate over the steps of each epoch\n",
    "    for t in range(ENV_MAX_STEPS):\n",
    "        # Get the logits, action, and take one step in the environment\n",
    "        prev_observation = tf.expand_dims(\n",
    "            tf.convert_to_tensor(prev_observation), 0\n",
    "        )\n",
    "        logits, action = sample_action(prev_observation)\n",
    "        # print(action[0].numpy())\n",
    "        observation_new, reward, done = env.step(a_alice=[action[0].numpy(), 0, 0, 0])\n",
    "        episode_return += reward\n",
    "        episode_length += 1\n",
    "        # for latency\n",
    "        if isinstance(observation_new[0], list):\n",
    "            observation_new = np.concatenate(observation_new).flatten().tolist()\n",
    "        observation_new.append(env.get_info())\n",
    "\n",
    "        # Get the value and log-probability of the action\n",
    "        value_t = critic(prev_observation)\n",
    "        logprobability_t = logprobabilities(logits, action)\n",
    "\n",
    "        # Store obs, act, rew, v_t, logp_pi_t\n",
    "        buffer.store(prev_observation, action, reward, value_t, logprobability_t)\n",
    "\n",
    "        # Update the observation\n",
    "        prev_observation = observation_new\n",
    "\n",
    "        # Finish trajectory if reached to a terminal state\n",
    "        terminal = done\n",
    "        if terminal or (t == ENV_MAX_STEPS - 1):\n",
    "            if done:\n",
    "                last_value = 0     \n",
    "            else:\n",
    "                prev_observation = tf.expand_dims(\n",
    "                    tf.convert_to_tensor(prev_observation), 0\n",
    "                ) \n",
    "                last_value = critic(prev_observation)\n",
    "            buffer.finish_trajectory(last_value)\n",
    "            sum_return += episode_return\n",
    "            ep_rewards.append(episode_return)\n",
    "            sum_length += episode_length\n",
    "            num_episodes += 1\n",
    "            # save qber before reset\n",
    "            last_qber = env.qber_history\n",
    "            prev_observation, _ = env.reset()\n",
    "            prev_observation.append(env.get_info())\n",
    "            # for latency\n",
    "            if isinstance(prev_observation[0], list):\n",
    "                prev_observation = np.concatenate(prev_observation).flatten().tolist()\n",
    "            episode_return, episode_length = 0, 0\n",
    "            rewards.append(sum_return / num_episodes)\n",
    "\n",
    "    # Get values from the buffer\n",
    "    (\n",
    "        observation_buffer,\n",
    "        action_buffer,\n",
    "        advantage_buffer,\n",
    "        return_buffer,\n",
    "        logprobability_buffer,\n",
    "    ) = buffer.get()\n",
    "\n",
    "    # Update the policy and implement early stopping using KL divergence\n",
    "    for _ in range(TRAIN_POLICY_ITERATIONS):\n",
    "        kl = train_policy(\n",
    "            observation_buffer, action_buffer, logprobability_buffer, advantage_buffer\n",
    "        )\n",
    "        if kl > 1.5 * TARGET_KL:\n",
    "            # Early Stopping\n",
    "            break\n",
    "\n",
    "    # Update the value function\n",
    "    for _ in range(TRAIN_VALUE_ITERATIONS):\n",
    "        train_value_function(observation_buffer, return_buffer)\n",
    "\n",
    "    # Print mean return and length for each epoch\n",
    "    pbar.set_description(f\"Mean Return: {sum_return / num_episodes:.2f}. Mean Length: {sum_length / num_episodes:.2f} Baseline: {baseline_reward:.2f} Last (5): {average_last_n(ep_rewards, 5)}\")"
   ]
  },
  {
   "cell_type": "markdown",
   "metadata": {},
   "source": [
    "# Plots"
   ]
  },
  {
   "cell_type": "markdown",
   "metadata": {},
   "source": [
    "## Rewards"
   ]
  },
  {
   "cell_type": "code",
   "execution_count": null,
   "metadata": {},
   "outputs": [
    {
     "data": {
      "text/plain": [
       "[<matplotlib.lines.Line2D at 0x7f5b08171a90>]"
      ]
     },
     "execution_count": 9,
     "metadata": {},
     "output_type": "execute_result"
    },
    {
     "data": {
      "image/png": "[encoded data removed]",
      "text/plain": [
       "<Figure size 640x480 with 1 Axes>"
      ]
     },
     "metadata": {},
     "output_type": "display_data"
    }
   ],
   "source": [
    "import matplotlib.pyplot as plt\n",
    "\n",
    "plt.plot(rewards)"
   ]
  },
  {
   "cell_type": "markdown",
   "metadata": {},
   "source": [
    "## QBERs"
   ]
  },
  {
   "cell_type": "code",
   "execution_count": null,
   "metadata": {},
   "outputs": [
    {
     "data": {
      "text/plain": [
       "<matplotlib.legend.Legend at 0x7f5b081f43a0>"
      ]
     },
     "execution_count": 10,
     "metadata": {},
     "output_type": "execute_result"
    },
    {
     "data": {
      "image/png": "[encoded data removed]",
      "text/plain": [
       "<Figure size 640x480 with 1 Axes>"
      ]
     },
     "metadata": {},
     "output_type": "display_data"
    }
   ],
   "source": [
    "done = False\n",
    "# env = reinit_env()\n",
    "prev_observation, _ = env.reset()\n",
    "prev_observation.append(env.get_info())\n",
    "episode_return, episode_length = 0, 0\n",
    "______plot_qbers = []\n",
    "\n",
    "while not done:\n",
    "    # Convert observation to tensor and expand dimensions for the model\n",
    "    if isinstance(prev_observation[0], list):\n",
    "        prev_observation = np.concatenate(prev_observation).flatten().tolist()\n",
    "    prev_observation = tf.expand_dims(tf.convert_to_tensor(prev_observation), 0)\n",
    "    \n",
    "    # Sample action from the current policy\n",
    "    logits, action = sample_action(prev_observation)\n",
    "    \n",
    "    # Take a step in the environment\n",
    "    observation_new, reward, done = env.step(a_alice=[action[0].numpy(), 0, 0, 0])\n",
    "\n",
    "    ______plot_qbers.append(observation_new)\n",
    "\n",
    "    episode_return += reward\n",
    "    episode_length += 1\n",
    "    \n",
    "    # Update observation\n",
    "    prev_observation=[]\n",
    "    prev_observation = observation_new.copy()\n",
    "    prev_observation.append(env.get_info())\n",
    "\n",
    "plt.figure()\n",
    "plt.clf()\n",
    "plt.plot(______plot_qbers)\n",
    "plt.legend([\"QBERz\", \"QBERx\", \"time shouldn't be here!\"])"
   ]
  }
 ],
 "metadata": {
  "kernelspec": {
   "display_name": "Python 3",
   "language": "python",
   "name": "python3"
  },
  "language_info": {
   "codemirror_mode": {
    "name": "ipython",
    "version": 3
   },
   "file_extension": ".py",
   "mimetype": "text/x-python",
   "name": "python",
   "nbconvert_exporter": "python",
   "pygments_lexer": "ipython3",
   "version": "3.8.10"
  }
 },
 "nbformat": 4,
 "nbformat_minor": 2
}
